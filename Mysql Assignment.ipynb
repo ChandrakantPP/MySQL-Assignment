{
 "cells": [
  {
   "cell_type": "markdown",
   "id": "ffd73c6d-0749-42d5-8f6b-e12734bd3b59",
   "metadata": {},
   "source": [
    "Q1. What is a database? Differentiate between SQL and NoSQL databases."
   ]
  },
  {
   "cell_type": "markdown",
   "id": "d5b4466d-f7da-4cf6-8534-ba06ca4f4adf",
   "metadata": {},
   "source": [
    "Ans:- Database:- A database is an organized collection of structured information, or data, typically stored electronically in a computer system. "
   ]
  },
  {
   "cell_type": "markdown",
   "id": "d957089d-9142-43fc-af67-c697dde745eb",
   "metadata": {},
   "source": [
    "# Differnce between SQL and NoSQL database\n",
    "SQL Database:- Tables with fixed rows and columns.\n",
    "NoSQL Database:- Document: JSON documents, Key-value: key-value pairs, Wide-column: tables with rows and dynamic columns,"
   ]
  },
  {
   "cell_type": "markdown",
   "id": "e0ddd0b7-0bf9-4f1a-b497-730d34a8840b",
   "metadata": {},
   "source": [
    "Q2. What is DDL? Explain why CREATE, DROP, ALTER, and TRUNCATE are used with an example."
   ]
  },
  {
   "cell_type": "markdown",
   "id": "40344283-15e7-4bba-a498-82c4eb92e4bd",
   "metadata": {},
   "source": [
    "Ans:- DDL:- A data definition language is a computer language used to create and modify the structure of database objects in a database."
   ]
  },
  {
   "cell_type": "markdown",
   "id": "86ad7280-5e89-4275-bd6f-c1947cb741e7",
   "metadata": {},
   "source": [
    "CREATE:- CREATE statement are used to create table.\n",
    "example:- \"CREATE TABLE if not exists test1.test_table(c1 INT, c2 VARCHAR(50), c3 INT, c4 FLOAT, c5 VARCHAR(40))\"\n",
    "\n",
    "DROP:- DROP statement are used to delete a table in the database.\n",
    "example:- DROP TABLE Table_name;\n",
    "\n",
    "ALTER:- ALTER statement are used to add,delete,modify columns in table.\n",
    "example:- ALTER TABLE Table_name ADD column_name type();\n",
    "\n",
    "TRUNCATE:- TRUNCATE statement are used to delete the data inside the table, but not the table itself.\n",
    "example: TRUNCATE TABLE table_name;"
   ]
  },
  {
   "cell_type": "markdown",
   "id": "742296e3-d2eb-41c2-914c-a6b34a46cedf",
   "metadata": {},
   "source": [
    "Q3. What is DML? Explain INSERT, UPDATE, and DELETE with an example."
   ]
  },
  {
   "cell_type": "markdown",
   "id": "78f4c7e2-a13f-408d-8902-5b8c0b743756",
   "metadata": {},
   "source": [
    "Ans:- DML:-Data Manipulation Language It is the component of the SQL statement that controls access to data and to the database."
   ]
  },
  {
   "cell_type": "markdown",
   "id": "6eab4515-cc78-410f-be18-1cf515579d79",
   "metadata": {},
   "source": [
    "INSERT:- INSERT is used to insert records into a specified table of the database.\n",
    "example:- \"insert into test1.test_table values(3425,'dipesh',7896,34.5,'purohit')\"\n",
    "\n",
    "UPDATE:- UPDATE Query is used to modifying the existing records in a table.\n",
    "example:- UPDATE Students SET DepartmentId = 3 WHERE StudentId = 6;\n",
    "\n",
    "DELETE:- DELETE query is used to remove existing records from a specified table. \n",
    "example:- DELETE FROM table_name;"
   ]
  },
  {
   "cell_type": "markdown",
   "id": "f1d87b79-5f27-42cc-b9cb-9bcd9371c43f",
   "metadata": {},
   "source": [
    "Q4. What is DQL? Explain SELECT with an example."
   ]
  },
  {
   "cell_type": "markdown",
   "id": "9a41d919-d9ab-4f16-92e2-4d83f2ffcc0e",
   "metadata": {},
   "source": [
    "Ans:- DQL:- DQL is used to fetch the data from the database."
   ]
  },
  {
   "cell_type": "markdown",
   "id": "c62da324-a442-4ca1-bc5d-45b4fb4c1817",
   "metadata": {},
   "source": [
    "SELECT:- It is used to select the attribute based on the condition described by WHERE clause.\n",
    "example:- SELECT * FROM table_name;"
   ]
  },
  {
   "cell_type": "markdown",
   "id": "c180d2f5-61ea-4828-9cbc-670869c406bc",
   "metadata": {},
   "source": [
    "Q5. Explain Primary Key and Foreign Key."
   ]
  },
  {
   "cell_type": "markdown",
   "id": "15f11d97-44c7-43b7-a5d5-e4ac09c44dfc",
   "metadata": {},
   "source": [
    "Ans:- Primary Key:- A primary key is used to ensure data in the specific column is unique. \n",
    "      Foreign Key:- foreign key is a column or group of columns in a relational database table that provides a link between         data in two tables."
   ]
  },
  {
   "cell_type": "markdown",
   "id": "3114e42c-b745-42ca-b9d0-75d4bd777abe",
   "metadata": {},
   "source": [
    "Q6. Write a python code to connect MySQL to python. Explain the cursor() and execute() method."
   ]
  },
  {
   "cell_type": "raw",
   "id": "35b18074-2697-42cf-8a50-da89ced3e0f3",
   "metadata": {},
   "source": [
    "# python code to connect MySQl to python\n",
    "import mysql.connector\n",
    "mydb = mysql.connector.connect(\n",
    "  host=\"localhost\",\n",
    "  user=\"abc\",\n",
    "  password=\"password\"\n",
    ")\n",
    "print(mydb)\n",
    "mycursor = mydb.cursor()\n",
    "mycursor.execute(\"SHOW DATABASES\")\n",
    "for x in mycursor:\n",
    "  print(x)"
   ]
  },
  {
   "cell_type": "markdown",
   "id": "54b52f92-38be-410b-9775-be124012a708",
   "metadata": {},
   "source": [
    "cursor():- A cursor is an object which helps to execute the query and fetch the records from the database. \n",
    "execute():- The Execute method executes the query, SQL statement or procedure specified in the CommandText property of the Command object. "
   ]
  },
  {
   "cell_type": "markdown",
   "id": "9b8cc9c4-5ffc-42b8-a146-456861901b85",
   "metadata": {},
   "source": [
    "Q7. Give the order of execution of SQL clauses in an SQL query."
   ]
  },
  {
   "cell_type": "raw",
   "id": "c3c29470-f985-4a3a-b6fc-58158ebeb96f",
   "metadata": {},
   "source": [
    "1) FROM\n",
    "2) WHERE\n",
    "3) GROUP BY\n",
    "4) HAVING\n",
    "5) SELECT\n",
    "6) ORDER BY\n",
    "7) LIMIT"
   ]
  }
 ],
 "metadata": {
  "kernelspec": {
   "display_name": "Python 3 (ipykernel)",
   "language": "python",
   "name": "python3"
  },
  "language_info": {
   "codemirror_mode": {
    "name": "ipython",
    "version": 3
   },
   "file_extension": ".py",
   "mimetype": "text/x-python",
   "name": "python",
   "nbconvert_exporter": "python",
   "pygments_lexer": "ipython3",
   "version": "3.10.8"
  }
 },
 "nbformat": 4,
 "nbformat_minor": 5
}
